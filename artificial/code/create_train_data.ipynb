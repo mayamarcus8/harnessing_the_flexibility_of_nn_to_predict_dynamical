{
 "cells": [
  {
   "cell_type": "code",
   "execution_count": 13,
   "id": "205663c7",
   "metadata": {},
   "outputs": [],
   "source": [
    "import numpy as np\n",
    "import pandas as pd \n",
    "from q_sim import *\n",
    "from utils import *"
   ]
  },
  {
   "cell_type": "code",
   "execution_count": 14,
   "id": "32f26557",
   "metadata": {},
   "outputs": [],
   "source": [
    "n_trials = 1_000\n",
    "n_trials_per_block = 100\n",
    "n_agent = 2_000 \n",
    "\n",
    "t_parameters = np.zeros(shape=(n_agent,2))\n",
    "all_data = [] \n",
    "\n",
    "for agent in range(2000):\n",
    "    \n",
    "    reward_probs = create_reward_probs(2,n_trials_per_block,n_trials,np.array([0.1,0.5,0.9]))\n",
    "    param = configuration_parameters()\n",
    "    param['alpha'] = 0.3 # Maya: added to create stationary alpha\n",
    "    \n",
    "    sim = q_sim(\n",
    "                agent,\n",
    "                param,\n",
    "                n_trials,\n",
    "                reward_probs,\n",
    "                probability_to_switch_parameters=0.005,\n",
    "                max_change=np.random.choice([2,3,4])\n",
    "        )\n",
    "    \n",
    "    df = pd.DataFrame(sim)\n",
    "    all_data.append(df)\n",
    "    t_parameters[agent] = list(param.values())\n",
    "    \n",
    "df_all_agent = pd.concat(all_data)    \n",
    "df_all_agent = df_all_agent.reset_index()\n",
    "df_all_agent = df_all_agent.drop(columns=['index'])  "
   ]
  },
  {
   "cell_type": "code",
   "execution_count": 15,
   "id": "086ac9f3",
   "metadata": {},
   "outputs": [],
   "source": [
    "# create a list of our conditions\n",
    "x = 1/5\n",
    "conditions = [\n",
    "                (df_all_agent['alpha'] <= x), # 0\n",
    "                (df_all_agent['alpha'] > 1*x) & (df_all_agent['alpha'] <= 2*x), # 1\n",
    "                (df_all_agent['alpha'] > 2*x) & (df_all_agent['alpha'] <= 3*x), # 2\n",
    "                (df_all_agent['alpha'] > 3*x) & (df_all_agent['alpha'] <= 4*x), # 3\n",
    "                (df_all_agent['alpha'] > 4*x) # 4\n",
    "    ]\n",
    "\n",
    "# create a list of the values we want to assign for each condition\n",
    "values = [0,1,2,3,4] \n",
    "\n",
    "# create a new column and use np.select to assign values to it using our lists as arguments\n",
    "df_all_agent['alpha_bin'] = np.select(conditions, values)\n",
    "\n",
    "# create a list of our conditions\n",
    "x = 10/5\n",
    "conditions = [\n",
    "                (df_all_agent['beta'] <= x), # 0\n",
    "                (df_all_agent['beta'] > 1*x) & (df_all_agent['beta'] <= 2*x), # 1\n",
    "                (df_all_agent['beta'] > 2*x) & (df_all_agent['beta'] <= 3*x), # 2\n",
    "                (df_all_agent['beta'] > 3*x) & (df_all_agent['beta'] <= 4*x), # 3\n",
    "                (df_all_agent['beta'] > 4*x) # 4\n",
    "            ]\n",
    "\n",
    "# create a list of the values we want to assign for each condition\n",
    "values = [0,1,2,3,4]\n",
    "\n",
    "# create a new column and use np.select to assign values to it using our lists as arguments\n",
    "df_all_agent['beta_bin'] = np.select(conditions, values)"
   ]
  },
  {
   "cell_type": "code",
   "execution_count": 16,
   "id": "e8112b4a",
   "metadata": {},
   "outputs": [],
   "source": [
    "df_all_agent[['agent','block','trial',\n",
    "              'action','reward','alpha','beta',\n",
    "              'alpha_bin','beta_bin']].to_csv('../data/artificial_trainset_2000_alphastat_03.csv',index=False)"
   ]
  }
 ],
 "metadata": {
  "kernelspec": {
   "display_name": "Python 3 (ipykernel)",
   "language": "python",
   "name": "python3"
  },
  "language_info": {
   "codemirror_mode": {
    "name": "ipython",
    "version": 3
   },
   "file_extension": ".py",
   "mimetype": "text/x-python",
   "name": "python",
   "nbconvert_exporter": "python",
   "pygments_lexer": "ipython3",
   "version": "3.11.8"
  }
 },
 "nbformat": 4,
 "nbformat_minor": 5
}
