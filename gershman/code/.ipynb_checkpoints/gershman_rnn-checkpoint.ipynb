{
 "cells": [
  {
   "cell_type": "code",
   "execution_count": 1,
   "id": "1ba18cd5",
   "metadata": {},
   "outputs": [
    {
     "data": {
      "text/plain": [
       "device(type='cpu')"
      ]
     },
     "execution_count": 1,
     "metadata": {},
     "output_type": "execute_result"
    }
   ],
   "source": [
    "import numpy as np\n",
    "import pandas as pd\n",
    "import matplotlib.pyplot as plt\n",
    "from tqdm import tqdm\n",
    "\n",
    "import time\n",
    "import random\n",
    "\n",
    "import torch\n",
    "import torch.nn as nn\n",
    "import torch.optim as optim\n",
    "import torch.nn.functional as F\n",
    "from torch.utils.data import DataLoader, Dataset\n",
    "\n",
    "import warnings\n",
    "warnings.filterwarnings('ignore')\n",
    "\n",
    "device = torch.device('cuda' if torch.cuda.is_available() else 'cpu')\n",
    "device"
   ]
  },
  {
   "cell_type": "code",
   "execution_count": 50,
   "id": "87628d12",
   "metadata": {},
   "outputs": [],
   "source": [
    "class RNN(nn.Module):\n",
    "    \"\"\" \n",
    "    Set up and RNN model based on GRU\n",
    "    \n",
    "    simple architecture consisting of:\n",
    "    1. input: (reward_(t-1) , action_(t-1) ) -> \n",
    "    2. hidden: (n GRU units) -> \n",
    "    3. output_0: probability for each action. output_1: parameters embedding\n",
    "    \"\"\"\n",
    "    def __init__(self,input_size, hidden_size, output_size, dropout):\n",
    "        super(RNN, self).__init__()\n",
    "        self.input_size = input_size\n",
    "        self.hidden = nn.RNN(  \n",
    "                            input_size=input_size,\n",
    "                            hidden_size=hidden_size,\n",
    "                            num_layers=1,\n",
    "                            batch_first=True,\n",
    "                            dropout=dropout\n",
    "        )\n",
    "    \n",
    "        self.out = nn.Linear(hidden_size, output_size)\n",
    "        self.relu = nn.ReLU()\n",
    "        \n",
    "    def forward(self, x):\n",
    "        output, hn = self.hidden(x)\n",
    "        output = self.out(output)\n",
    "        \n",
    "        # action prediction \n",
    "        output = F.softmax(output,dim=-1) \n",
    "        \n",
    "        return output, hn\n",
    "\n",
    "\n",
    "class GRU(nn.Module):\n",
    "    \"\"\" \n",
    "    Set up and RNN model based on GRU\n",
    "    \n",
    "    simple architecture consisting of:\n",
    "    1. input: (reward_(t-1) , action_(t-1) ) -> \n",
    "    2. hidden: (n GRU units) -> \n",
    "    3. output_0: probability for each action. output_1: parameters embedding\n",
    "    \"\"\"\n",
    "    def __init__(self,input_size, hidden_size, output_size, dropout):\n",
    "        super(GRU, self).__init__()\n",
    "        self.input_size = input_size\n",
    "        self.hidden = nn.GRU(  \n",
    "                            input_size=input_size,\n",
    "                            hidden_size=hidden_size,\n",
    "                            num_layers=1,\n",
    "                            batch_first=True,\n",
    "                            dropout=dropout\n",
    "        )\n",
    "    \n",
    "        self.out = nn.Linear(hidden_size, output_size)\n",
    "        self.relu = nn.ReLU()\n",
    "        \n",
    "    def forward(self, x):\n",
    "        output, hn = self.hidden(x)\n",
    "        output = self.out(output)\n",
    "        \n",
    "        # action prediction \n",
    "        output = F.softmax(output,dim=-1) \n",
    "        \n",
    "        return output, hn\n",
    "    \n",
    "class LSTM(nn.Module):\n",
    "    \"\"\" \n",
    "    Set up and RNN model based on GRU\n",
    "    \n",
    "    simple architecture consisting of:\n",
    "    1. input: (reward_(t-1) , action_(t-1) ) -> \n",
    "    2. hidden: (n GRU units) -> \n",
    "    3. output_0: probability for each action. output_1: parameters embedding\n",
    "    \"\"\"\n",
    "    def __init__(self,input_size, hidden_size, output_size, dropout):\n",
    "        super(LSTM, self).__init__()\n",
    "        self.input_size = input_size\n",
    "        self.hidden = nn.LSTM(  \n",
    "                            input_size=input_size,\n",
    "                            hidden_size=hidden_size,\n",
    "                            num_layers=1,\n",
    "                            batch_first=True,\n",
    "                            dropout=dropout\n",
    "        )\n",
    "    \n",
    "        self.out = nn.Linear(hidden_size, output_size)\n",
    "        self.relu = nn.ReLU()\n",
    "        \n",
    "    def forward(self, x):\n",
    "        output, hn = self.hidden(x)\n",
    "        output = self.out(output)\n",
    "        \n",
    "        # action prediction \n",
    "        output = F.softmax(output,dim=-1) \n",
    "        \n",
    "        return output, hn\n",
    "    \n",
    "\n",
    "    \n",
    "class behavior_dataset(Dataset):\n",
    "    \"\"\" \n",
    "    Transform Dataframe of an agent to torch Dataset class \n",
    "    \n",
    "    Args:\n",
    "        dataframe: pandas dataframe of agent behavior \n",
    "        \n",
    "    Returns: \n",
    "        torch Dataset:\n",
    "        x: [reward_(t-1) , action_(t-1), block_t] action are encoded as one-hot vectors\n",
    "        y: [action_t] action_t\n",
    "        \n",
    "    \"\"\"\n",
    "    def __init__(self,dataframe):\n",
    "        \n",
    "        # action one hot transformation \n",
    "        action = np.array(dataframe['action'])\n",
    "        if np.all(action == action[0]):\n",
    "            action = np.append(action,(1-action[0]))\n",
    "            action = torch.tensor((action).reshape(len(dataframe) + 1),dtype=int)\n",
    "            action_onehot = nn.functional.one_hot(action, len(action.unique()))\n",
    "            # delete last one\n",
    "            action_onehot = action_onehot[:-1]\n",
    "        else:\n",
    "            action = torch.tensor((action).reshape(len(dataframe)),dtype=int)\n",
    "            action_onehot = nn.functional.one_hot(action, len(action.unique()))\n",
    "        \n",
    "        # reward\n",
    "        reward = torch.tensor((np.array(dataframe['reward'])).reshape(len(dataframe)),dtype=int)\n",
    "        \n",
    "        # concatinating reward and action\n",
    "        reward_action = torch.cat([reward[ :, np.newaxis], action_onehot],1)\n",
    "        \n",
    "        # block\n",
    "        block = torch.tensor((np.array(dataframe['start'])).reshape(len(dataframe)),dtype=int)\n",
    "        \n",
    "        # concatinating block with and reward_action\n",
    "        reward_action_block = torch.cat([block[ :, np.newaxis], reward_action],1)\n",
    "        \n",
    "        # adding dummy zeros to the beginning and ignoring the last one\n",
    "        reward_action_block_shift = nn.functional.pad(reward_action_block,[0,0,1,0])[:-1]\n",
    "        \n",
    "        # network input \n",
    "        x = reward_action_block_shift\n",
    "        \n",
    "        # network output \n",
    "        y = action_onehot\n",
    "  \n",
    "        self.x = x.type(dtype=torch.float32)\n",
    "        self.y = y.type(dtype=torch.float32)\n",
    "        self.len = len(dataframe)\n",
    "\n",
    "    def __getitem__(self,idx):\n",
    "        return self.x[idx],self.y[idx]\n",
    "  \n",
    "    def __len__(self):\n",
    "        return self.len    \n",
    "    "
   ]
  },
  {
   "cell_type": "code",
   "execution_count": 3,
   "id": "6e26a853",
   "metadata": {},
   "outputs": [],
   "source": [
    "def train_model(net, train_loader, val_loader, epochs):\n",
    "    \n",
    "    train_loss_array,val_loss_array = [], []\n",
    "    ll_array = []\n",
    "    net.to(device)  # move net to GPU\n",
    "    \n",
    "    # Use Adam optimizer\n",
    "    optimizer = optim.Adam(net.parameters(), lr=0.001) \n",
    "    \n",
    "    criterion = nn.BCELoss()\n",
    "    \n",
    "    # Loop over epochs \n",
    "    for i in range(epochs):\n",
    "        \n",
    "        running_loss = 0\n",
    "        # Loop over training batches\n",
    "        for j, (X, y_true) in enumerate(train_loader):\n",
    "    \n",
    "            X, y_true_action = X.to(device), y_true.to(device) # move to GPU\n",
    "            X = X.reshape(1,X.shape[0],INPUT_SIZE) # reshape to  1 x trials x input_size\n",
    "            \n",
    "            optimizer.zero_grad()  # zero the gradient buffers\n",
    "            y_hat_action, hn = net(X) # forward pass\n",
    "            y_hat_action = (y_hat_action.view(-1, OUTPUT_SIZE)) # Reshape to (SeqLen x Batch, OutputSize)\n",
    "            loss = criterion(y_hat_action, y_true_action)  # compute loss\n",
    "            loss.backward() # backprop the loss\n",
    "            optimizer.step() # update the weights \n",
    "            running_loss+=loss.item()\n",
    "            \n",
    "        train_loss_array.append(running_loss/len(train_loader))\n",
    "        val_loss_array.append(eval_net(net,val_loader))\n",
    "        \n",
    "#         vl, ll = eval_net(net,val_loader)\n",
    "#         val_loss_array.append(vl)\n",
    "#         ll_array.append(ll)\n",
    "        \n",
    "        net.train()\n",
    "            \n",
    "    return net, train_loss_array, val_loss_array , ll_array\n",
    "\n",
    "def eval_net(net, test_loader):\n",
    "    \n",
    "    criterion = nn.BCELoss()\n",
    "    \n",
    "    with torch.no_grad():\n",
    "        net.eval()\n",
    "        running_loss = 0\n",
    "        for j, (X, y_true) in enumerate(test_loader):\n",
    "            \n",
    "            X, y_true = X.to(device), y_true.to(device) # move to GPU\n",
    "            X = X.reshape(1,X.shape[0],INPUT_SIZE) # reshape to  1 x trials x input_size\n",
    "            out, hn = net(X)\n",
    "            out = out.view(-1, OUTPUT_SIZE)\n",
    "            loss = criterion(out, y_true)\n",
    "            running_loss+=loss.item()\n",
    "            \n",
    "#             y_true = torch.argmax(y_true,1)\n",
    "#             ll = out.gather(1, y_true.view(-1,1))\n",
    "#             ll = -torch.sum(torch.log(ll))\n",
    "#             ll = float(ll.to('cpu').detach())\n",
    "\n",
    "    return (running_loss/len(test_loader)) # , ll"
   ]
  },
  {
   "cell_type": "code",
   "execution_count": 7,
   "id": "6afe3c5c",
   "metadata": {},
   "outputs": [],
   "source": [
    "INPUT_SIZE = 4\n",
    "OUTPUT_SIZE = 2\n",
    "\n",
    "# need grid search \n",
    "HIDDEN_SIZE = 5\n",
    "BATCH_SIZE = 10\n",
    "EPOCH = 200"
   ]
  },
  {
   "cell_type": "code",
   "execution_count": 68,
   "id": "25b44da7",
   "metadata": {},
   "outputs": [
    {
     "name": "stderr",
     "output_type": "stream",
     "text": [
      "100%|███████████████████████████████████████████| 44/44 [03:50<00:00,  5.23s/it]\n"
     ]
    }
   ],
   "source": [
    "from sklearn.preprocessing import MinMaxScaler\n",
    "\n",
    "df = pd.read_csv('../data/data2.csv')\n",
    "df['action'] = df['choice']-1\n",
    "df['block'] = df['block']-1\n",
    "df['trial'] = df['trial']-1\n",
    "df['subject'] = df['subject']-1\n",
    "df['start'] = df['block'] > 0\n",
    "df['start'] = (df['trial'] == 0).astype(int)\n",
    "\n",
    "train_res_rnn,test_res_rnn = [],[]\n",
    "\n",
    "for i in tqdm(range(44)):\n",
    "    \n",
    "    for _ in range(3):\n",
    "        cur_df = df[(df['subject']==i)].reset_index() \n",
    "\n",
    "        scaler = MinMaxScaler(feature_range=(-1,1))\n",
    "        x = scaler.fit_transform(cur_df.reward.values.reshape(200,1)).flatten()\n",
    "        cur_df['reward'] = x\n",
    "        set_0 = cur_df[cur_df['block']%2==0].reset_index()\n",
    "        set_1 = cur_df[cur_df['block']%2==1].reset_index()\n",
    "\n",
    "        data = [set_0,set_1]\n",
    "\n",
    "        for j in range(2):\n",
    "\n",
    "            train = data[0]\n",
    "            test = data[1]\n",
    "\n",
    "            train_data = behavior_dataset(train)\n",
    "            test_data = behavior_dataset(test)\n",
    "\n",
    "            train_loader = DataLoader(train_data,shuffle=False,batch_size=BATCH_SIZE)\n",
    "            test_loader = DataLoader(test_data,shuffle=False,batch_size=BATCH_SIZE)\n",
    "\n",
    "            rnn = RNN(input_size=INPUT_SIZE, hidden_size=HIDDEN_SIZE, output_size=OUTPUT_SIZE, dropout=0.1)\n",
    "            rnn, train_loss, test_loss, ll_array = train_model(rnn,train_loader,test_loader,EPOCH)\n",
    "\n",
    "            train_res_rnn.append(train_loss)\n",
    "            test_res_rnn.append(test_loss)\n",
    "\n",
    "            data = data[::-1]"
   ]
  },
  {
   "cell_type": "code",
   "execution_count": 103,
   "id": "09aee441",
   "metadata": {},
   "outputs": [
    {
     "data": {
      "text/plain": [
       "0.4622580854574952"
      ]
     },
     "execution_count": 103,
     "metadata": {},
     "output_type": "execute_result"
    },
    {
     "data": {
      "image/png": "[encoded data removed]",
      "text/plain": [
       "<Figure size 432x288 with 1 Axes>"
      ]
     },
     "metadata": {
      "needs_background": "light"
     },
     "output_type": "display_data"
    }
   ],
   "source": [
    "plt.plot(np.array(train_res_rnn).reshape(44,6,200).mean(axis=1).mean(axis=0))\n",
    "plt.plot(np.array(test_res_rnn).reshape(44,6,200).mean(axis=1).mean(axis=0))\n",
    "plt.scatter(x=np.argmin(np.array(test_res_rnn).reshape(44,6,200).mean(axis=1).mean(axis=0)),\n",
    "           y=np.array(test_res_rnn).reshape(44,6,200).mean(axis=1).mean(axis=0).min())\n",
    "np.array(test_res_rnn).reshape(44,6,200).mean(axis=1).min(axis=1).mean()"
   ]
  },
  {
   "cell_type": "code",
   "execution_count": 66,
   "id": "589a1518",
   "metadata": {},
   "outputs": [
    {
     "name": "stderr",
     "output_type": "stream",
     "text": [
      "100%|███████████████████████████████████████████| 44/44 [03:49<00:00,  5.22s/it]\n"
     ]
    }
   ],
   "source": [
    "from sklearn.preprocessing import MinMaxScaler\n",
    "\n",
    "df = pd.read_csv('../data/data2.csv')\n",
    "df['action'] = df['choice']-1\n",
    "df['block'] = df['block']-1\n",
    "df['trial'] = df['trial']-1\n",
    "df['subject'] = df['subject']-1\n",
    "df['start'] = df['block'] > 0\n",
    "df['start'] = (df['trial'] == 0).astype(int)\n",
    "\n",
    "train_res_gru,test_res_gru = [],[]\n",
    "\n",
    "for i in tqdm(range(44)):\n",
    "    \n",
    "    for _ in range(3):\n",
    "        cur_df = df[(df['subject']==i)].reset_index() \n",
    "\n",
    "        scaler = MinMaxScaler(feature_range=(-1,1))\n",
    "        x = scaler.fit_transform(cur_df.reward.values.reshape(200,1)).flatten()\n",
    "        cur_df['reward'] = x\n",
    "        set_0 = cur_df[cur_df['block']%2==0].reset_index()\n",
    "        set_1 = cur_df[cur_df['block']%2==1].reset_index()\n",
    "\n",
    "        data = [set_0,set_1]\n",
    "\n",
    "        for j in range(2):\n",
    "\n",
    "            train = data[0]\n",
    "            test = data[1]\n",
    "\n",
    "            train_data = behavior_dataset(train)\n",
    "            test_data = behavior_dataset(test)\n",
    "\n",
    "            train_loader = DataLoader(train_data,shuffle=False,batch_size=BATCH_SIZE)\n",
    "            test_loader = DataLoader(test_data,shuffle=False,batch_size=BATCH_SIZE)\n",
    "\n",
    "            rnn = RNN(input_size=INPUT_SIZE, hidden_size=HIDDEN_SIZE, output_size=OUTPUT_SIZE, dropout=0.1)\n",
    "            rnn, train_loss, test_loss, ll_array = train_model(rnn,train_loader,test_loader,EPOCH)\n",
    "\n",
    "            train_res_gru.append(train_loss)\n",
    "            test_res_gru.append(test_loss)\n",
    "\n",
    "            data = data[::-1]"
   ]
  },
  {
   "cell_type": "code",
   "execution_count": 102,
   "id": "6deecde2",
   "metadata": {},
   "outputs": [
    {
     "data": {
      "text/plain": [
       "0.46071328422562635"
      ]
     },
     "execution_count": 102,
     "metadata": {},
     "output_type": "execute_result"
    },
    {
     "data": {
      "image/png": "[encoded data removed]",
      "text/plain": [
       "<Figure size 432x288 with 1 Axes>"
      ]
     },
     "metadata": {
      "needs_background": "light"
     },
     "output_type": "display_data"
    }
   ],
   "source": [
    "plt.plot(np.array(train_res_gru).reshape(44,6,200).mean(axis=1).mean(axis=0))\n",
    "plt.plot(np.array(test_res_gru).reshape(44,6,200).mean(axis=1).mean(axis=0))\n",
    "plt.scatter(x=np.argmin(np.array(test_res_gru).reshape(44,6,200).mean(axis=1).mean(axis=0)),\n",
    "           y=np.array(test_res_gru).reshape(44,6,200).mean(axis=1).mean(axis=0).min())\n",
    "np.array(test_res_gru).reshape(44,6,200).mean(axis=1).min(axis=1).mean()\n"
   ]
  },
  {
   "cell_type": "code",
   "execution_count": 53,
   "id": "2519186f",
   "metadata": {},
   "outputs": [
    {
     "name": "stderr",
     "output_type": "stream",
     "text": [
      "100%|███████████████████████████████████████████| 44/44 [06:27<00:00,  8.81s/it]\n"
     ]
    }
   ],
   "source": [
    "from sklearn.preprocessing import MinMaxScaler\n",
    "\n",
    "df = pd.read_csv('../data/data2.csv')\n",
    "df['action'] = df['choice']-1\n",
    "df['block'] = df['block']-1\n",
    "df['trial'] = df['trial']-1\n",
    "df['subject'] = df['subject']-1\n",
    "df['start'] = df['block'] > 0\n",
    "df['start'] = (df['trial'] == 0).astype(int)\n",
    "\n",
    "train_res,test_res = [],[]\n",
    "\n",
    "for i in tqdm(range(44)):\n",
    "    \n",
    "    for _ in range(3):\n",
    "        cur_df = df[(df['subject']==i)].reset_index() \n",
    "\n",
    "        scaler = MinMaxScaler(feature_range=(-1,1))\n",
    "        x = scaler.fit_transform(cur_df.reward.values.reshape(200,1)).flatten()\n",
    "        cur_df['reward'] = x\n",
    "        set_0 = cur_df[cur_df['block']%2==0].reset_index()\n",
    "        set_1 = cur_df[cur_df['block']%2==1].reset_index()\n",
    "\n",
    "        data = [set_0,set_1]\n",
    "\n",
    "        for j in range(2):\n",
    "\n",
    "            train = data[0]\n",
    "            test = data[1]\n",
    "\n",
    "            train_data = behavior_dataset(train)\n",
    "            test_data = behavior_dataset(test)\n",
    "\n",
    "            train_loader = DataLoader(train_data,shuffle=False,batch_size=BATCH_SIZE)\n",
    "            test_loader = DataLoader(test_data,shuffle=False,batch_size=BATCH_SIZE)\n",
    "\n",
    "            rnn = LSTM(input_size=INPUT_SIZE, hidden_size=HIDDEN_SIZE, output_size=OUTPUT_SIZE, dropout=0.1)\n",
    "            rnn, train_loss, test_loss, ll_array = train_model(rnn,train_loader,test_loader,EPOCH)\n",
    "\n",
    "            train_res.append(train_loss)\n",
    "            test_res.append(test_loss)\n",
    "\n",
    "            data = data[::-1]"
   ]
  },
  {
   "cell_type": "code",
   "execution_count": 104,
   "id": "0935b411",
   "metadata": {},
   "outputs": [
    {
     "data": {
      "text/plain": [
       "0.45290610636584455"
      ]
     },
     "execution_count": 104,
     "metadata": {},
     "output_type": "execute_result"
    },
    {
     "data": {
      "image/png": "[encoded data removed]",
      "text/plain": [
       "<Figure size 432x288 with 1 Axes>"
      ]
     },
     "metadata": {
      "needs_background": "light"
     },
     "output_type": "display_data"
    }
   ],
   "source": [
    "plt.plot(np.array(train_res_lstm).reshape(44,6,200).mean(axis=1).mean(axis=0))\n",
    "plt.plot(np.array(test_res_lstm).reshape(44,6,200).mean(axis=1).mean(axis=0))\n",
    "plt.scatter(x=np.argmin(np.array(test_res_lstm).reshape(44,6,200).mean(axis=1).mean(axis=0)),\n",
    "           y=np.array(test_res_lstm).reshape(44,6,200).mean(axis=1).mean(axis=0).min())\n",
    "np.array(test_res_lstm).reshape(44,6,200).mean(axis=1).min(axis=1).mean()\n"
   ]
  },
  {
   "cell_type": "code",
   "execution_count": 115,
   "id": "7327481a",
   "metadata": {},
   "outputs": [
    {
     "data": {
      "text/plain": [
       "<matplotlib.legend.Legend at 0x15f8d9ac0>"
      ]
     },
     "execution_count": 115,
     "metadata": {},
     "output_type": "execute_result"
    },
    {
     "data": {
      "image/png": "[encoded data removed]",
      "text/plain": [
       "<Figure size 432x288 with 1 Axes>"
      ]
     },
     "metadata": {
      "needs_background": "light"
     },
     "output_type": "display_data"
    }
   ],
   "source": [
    "plt.plot(np.array(test_res_rnn).reshape(44,6,200).mean(axis=1).mean(axis=0),label='rnn')\n",
    "plt.plot(np.array(test_res_gru).reshape(44,6,200).mean(axis=1).mean(axis=0),label='gru')\n",
    "plt.plot(np.array(test_res_lstm).reshape(44,6,200).mean(axis=1).mean(axis=0),label='lstm')\n",
    "\n",
    "plt.axhline(y=np.array(test_res_rnn).reshape(44,6,200).mean(axis=1).mean(axis=0).min(),\n",
    "            ls='--',color='b',label='rnn')\n",
    "\n",
    "plt.axhline(y=np.array(test_res_gru).reshape(44,6,200).mean(axis=1).mean(axis=0).min(),\n",
    "            ls='--',color='g',label='gru')\n",
    "\n",
    "plt.axhline(y=np.array(test_res_lstm).reshape(44,6,200).mean(axis=1).mean(axis=0).min(),\n",
    "            ls='--',color='red',label='lstm')\n",
    "\n",
    "plt.axhline(y=-np.log(.5),ls='--',color='r',label='random_baseline')\n",
    "plt.axhline(y=0.449,ls='--',color='k',label='gershman')\n",
    "plt.legend()"
   ]
  }
 ],
 "metadata": {
  "kernelspec": {
   "display_name": "Python 3 (ipykernel)",
   "language": "python",
   "name": "python3"
  },
  "language_info": {
   "codemirror_mode": {
    "name": "ipython",
    "version": 3
   },
   "file_extension": ".py",
   "mimetype": "text/x-python",
   "name": "python",
   "nbconvert_exporter": "python",
   "pygments_lexer": "ipython3",
   "version": "3.9.2"
  }
 },
 "nbformat": 4,
 "nbformat_minor": 5
}
