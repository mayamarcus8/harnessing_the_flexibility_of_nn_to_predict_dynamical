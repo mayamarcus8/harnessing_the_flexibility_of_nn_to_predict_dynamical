{
 "cells": [
  {
   "cell_type": "code",
   "execution_count": 1,
   "id": "b6d7aa25",
   "metadata": {},
   "outputs": [],
   "source": [
    "import numpy as np\n",
    "import pandas as pd \n",
    "import matplotlib.pyplot as plt \n",
    "import seaborn as sns \n",
    "from scipy.stats import pearsonr\n",
    "from gershman_sim import *\n",
    "from gershman_fit import *\n",
    "\n",
    "import warnings\n",
    "import multiprocessing as mp\n",
    "import time\n",
    "warnings.filterwarnings('ignore')"
   ]
  },
  {
   "cell_type": "code",
   "execution_count": 2,
   "id": "9f9cfbcd",
   "metadata": {},
   "outputs": [],
   "source": [
    "# simulate agents\n",
    "n_trials = 10 \n",
    "n_blocks = 20\n",
    "n_agent = 500\n",
    "\n",
    "t_parameters = np.zeros(shape=(n_agent,2))\n",
    "all_data = [] \n",
    "\n",
    "for agent in range(n_agent):\n",
    "    beta = np.random.uniform(0,5)\n",
    "    gamma = np.random.uniform(0,5)\n",
    "    t_parameters[agent] = beta,gamma\n",
    "    sim = gershman_sim(agent,t_parameters[agent],n_blocks,n_trials)\n",
    "    df = pd.DataFrame(sim)\n",
    "    all_data.append(df)"
   ]
  },
  {
   "cell_type": "code",
   "execution_count": null,
   "id": "2ef2aa80",
   "metadata": {},
   "outputs": [],
   "source": [
    "# recover parameters\n",
    "start = time.time()\n",
    "pool = mp.Pool(processes=mp.cpu_count())\n",
    "fit_arr = pool.map(gershman_fit,all_data)\n",
    "end = time.time()\n",
    "print(end - start)\n",
    "pool.close()\n",
    "\n",
    "r_parameters = np.array([fit_arr[i].x for i in range(n_agent)])"
   ]
  },
  {
   "cell_type": "code",
   "execution_count": null,
   "id": "29f8674d",
   "metadata": {},
   "outputs": [],
   "source": [
    "fig, (ax1, ax2) = plt.subplots(1, 2, figsize=(12, 4))\n",
    "\n",
    "sns.despine()\n",
    "\n",
    "sns.lineplot(ax=ax1,x=[0,5],y=[0,5],ls='--',color='crimson')\n",
    "sns.regplot(ax=ax1,x=t_parameters[:,0],y=r_parameters[:,0],color='royalblue')\n",
    "ax1.set_xlabel('True beta')\n",
    "ax1.set_ylabel('Recovered beta')\n",
    "\n",
    "sns.lineplot(ax=ax2,x=[0,5],y=[0,5],ls='--',color='crimson')\n",
    "sns.regplot(ax=ax2,x=t_parameters[:,1],y=r_parameters[:,1],color='royalblue')\n",
    "ax2.set_xlabel('True gamma')\n",
    "ax2.set_ylabel('Recovered gamma')\n",
    "plt.show()\n",
    "\n",
    "\n",
    "print(pearsonr(x=t_parameters[:,0],y=r_parameters[:,0]))\n",
    "print(pearsonr(x=t_parameters[:,1],y=r_parameters[:,1]))"
   ]
  },
  {
   "cell_type": "code",
   "execution_count": 2,
   "id": "4e0c0656",
   "metadata": {},
   "outputs": [
    {
     "name": "stdout",
     "output_type": "stream",
     "text": [
      "4.6123528480529785\n"
     ]
    }
   ],
   "source": [
    "df = pd.read_csv('../data/data2.csv')\n",
    "df['action'] = df['choice']-1\n",
    "df['block'] = df['block']-1\n",
    "df['subject'] = df['subject']-1\n",
    "\n",
    "all_data=[]\n",
    "\n",
    "for i in range(44):\n",
    "    cur_df = df[(df['subject']==i)].reset_index()\n",
    "    all_data.append(cur_df)\n",
    "    \n",
    "# recover parameters of all agents \n",
    "start = time.time()\n",
    "pool = mp.Pool(processes=mp.cpu_count())\n",
    "fit_arr = pool.map(gershman_fit,all_data)\n",
    "end = time.time()\n",
    "print(end - start)\n",
    "pool.close()\n",
    "\n",
    "from gershman_pred import *\n",
    "\n",
    "def bce_loss(y_hat,y_true):\n",
    "    eps = 1e-10\n",
    "    return (-((y_true*(np.log(y_hat + eps)) + (1-y_true)*(np.log(1-y_hat + eps)))))\n",
    "all_bce_0 = [] \n",
    "for i in range(44):\n",
    "    cur_df = df[(df['subject']==i)].reset_index()\n",
    "    a,b = gershman_pred(cur_df,fit_arr[i].x)\n",
    "    all_bce_0.append(bce_loss(1-b, cur_df.action.values).mean())\n",
    "np.array(all_bce_0).mean()\n",
    "\n",
    "pd.DataFrame(np.array([fit_arr[i].x for i in range(44)]),\n",
    "             columns=['beta','gamma'])"
   ]
  },
  {
   "cell_type": "code",
   "execution_count": 20,
   "id": "513833ec",
   "metadata": {},
   "outputs": [
    {
     "name": "stderr",
     "output_type": "stream",
     "text": [
      "100%|███████████████████████████████████████████| 44/44 [29:52<00:00, 40.74s/it]\n"
     ]
    }
   ],
   "source": [
    "# LOO\n",
    "from gershman_pred import *\n",
    "from tqdm import tqdm\n",
    "\n",
    "def bce_loss(y_hat,y_true):\n",
    "    eps = 1e-10\n",
    "    return (-((y_true*(np.log(y_hat + eps)) + (1-y_true)*(np.log(1-y_hat + eps)))))\n",
    "\n",
    "df = pd.read_csv('../data/data2.csv')\n",
    "df['action'] = df['choice']-1\n",
    "df['block'] = df['block']-1\n",
    "df['trial'] = df['trial']-1\n",
    "df['subject'] = df['subject']-1\n",
    "for i in range(44):\n",
    "    cur_df = df[(df['subject']==i)].reset_index()\n",
    "    all_data.append(cur_df)\n",
    "\n",
    "T = 2\n",
    "\n",
    "all_bce_0 = []\n",
    "param_0 = []\n",
    "ll_0 = []\n",
    "\n",
    "for i in tqdm(range(44)):    \n",
    "    for _ in range(T):\n",
    "        train = df[(df['subject']!=i)].reset_index()\n",
    "        test = df[(df['subject']==i)].reset_index()\n",
    "\n",
    "        res = gershman_fit(train)\n",
    "        a,b = gershman_pred(test,res.x)\n",
    "        ll_0.append(res.fun)\n",
    "        param_0.append(res.x)\n",
    "        all_bce_0.append(bce_loss(1-b, test.action.values).mean())\n",
    "tar = np.array(all_bce_0).reshape(44,T)\n",
    "ind = np.argmin((np.array(ll_0).reshape(44,T)),axis=1)\n",
    "test_0 = np.array([tar[i,idx] for i,idx in enumerate(ind)])\n",
    "\n",
    "test_0.mean()"
   ]
  }
 ],
 "metadata": {
  "kernelspec": {
   "display_name": "Python 3 (ipykernel)",
   "language": "python",
   "name": "python3"
  },
  "language_info": {
   "codemirror_mode": {
    "name": "ipython",
    "version": 3
   },
   "file_extension": ".py",
   "mimetype": "text/x-python",
   "name": "python",
   "nbconvert_exporter": "python",
   "pygments_lexer": "ipython3",
   "version": "3.8.10"
  }
 },
 "nbformat": 4,
 "nbformat_minor": 5
}
