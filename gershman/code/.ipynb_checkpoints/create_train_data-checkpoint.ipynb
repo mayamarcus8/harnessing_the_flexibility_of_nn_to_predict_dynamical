{
 "cells": [
  {
   "cell_type": "code",
   "execution_count": null,
   "id": "205663c7",
   "metadata": {},
   "outputs": [],
   "source": [
    "import numpy as np\n",
    "import pandas as pd \n",
    "import matplotlib.pyplot as plt \n",
    "import seaborn as sns \n",
    "from scipy.stats import pearsonr\n",
    "from gershman_sim import *\n",
    "from gershman_fit import *\n",
    "\n",
    "import warnings\n",
    "import multiprocessing as mp\n",
    "import time\n",
    "warnings.filterwarnings('ignore')"
   ]
  },
  {
   "cell_type": "code",
   "execution_count": null,
   "id": "32f26557",
   "metadata": {},
   "outputs": [],
   "source": [
    "# simulate agents\n",
    "n_trials = 10 \n",
    "n_blocks = 20\n",
    "n_agent = 10_000 \n",
    "\n",
    "t_parameters = np.zeros(shape=(n_agent,2))\n",
    "all_data = [] \n",
    "\n",
    "for agent in range(n_agent):\n",
    "    beta = np.random.uniform(0,4) \n",
    "    gamma = np.random.uniform(0,1)\n",
    "    t_parameters[agent] = beta,gamma\n",
    "    sim = gershman_sim(agent,\n",
    "                       t_parameters[agent],\n",
    "                       n_blocks,\n",
    "                       n_trials,\n",
    "                       probability_to_switch_parameters=0.02,\n",
    "                       max_change=np.random.choice([2,3,4])\n",
    "                      )\n",
    "    df = pd.DataFrame(sim)\n",
    "    all_data.append(df)\n",
    "    \n",
    "df_all_agent = pd.concat(all_data)    \n",
    "df_all_agent = df_all_agent.reset_index()\n",
    "df_all_agent = df_all_agent.drop(columns=['index'])  "
   ]
  },
  {
   "cell_type": "code",
   "execution_count": null,
   "id": "086ac9f3",
   "metadata": {},
   "outputs": [],
   "source": [
    "x = 4/5\n",
    "\n",
    "# create a list of our conditions\n",
    "conditions = [\n",
    "    (df_all_agent['beta'] <=  x ) ,\n",
    "    (df_all_agent['beta'] > 1*x ) & (df_all_agent['beta'] <= 2*x ),\n",
    "    (df_all_agent['beta'] > 2*x ) & (df_all_agent['beta'] <= 3*x ),\n",
    "    (df_all_agent['beta'] > 3*x ) & (df_all_agent['beta'] <= 4*x ),\n",
    "    (df_all_agent['beta'] > 4*x ) \n",
    "    ]\n",
    "\n",
    "# create a list of the values we want to assign for each condition\n",
    "values = [0,1,2,3,4] \n",
    "\n",
    "# create a new column and use np.select to assign values to it using our lists as arguments\n",
    "df_all_agent['beta_categorical'] = np.select(conditions, values)\n",
    "\n",
    "x = 1/5\n",
    "\n",
    "# create a list of our conditions\n",
    "conditions = [\n",
    "    (df_all_agent['gamma'] <=  x ) ,\n",
    "    (df_all_agent['gamma'] > 1*x ) & (df_all_agent['gamma'] <= 2*x ),\n",
    "    (df_all_agent['gamma'] > 2*x ) & (df_all_agent['gamma'] <= 3*x ),\n",
    "    (df_all_agent['gamma'] > 3*x ) & (df_all_agent['gamma'] <= 4*x ),\n",
    "    (df_all_agent['gamma'] > 4*x ) \n",
    "    \n",
    "    ]\n",
    "\n",
    "# create a list of the values we want to assign for each condition\n",
    "values = [0,1,2,3,4] \n",
    "\n",
    "# create a new column and use np.select to assign values to it using our lists as arguments\n",
    "df_all_agent['gamma_categorical'] = np.select(conditions, values)"
   ]
  },
  {
   "cell_type": "code",
   "execution_count": null,
   "id": "e8112b4a",
   "metadata": {},
   "outputs": [],
   "source": [
    "df_all_agent[['agent','block','trial',\n",
    "              'action','reward','beta',\n",
    "              'gamma','beta_categorical',\n",
    "              'gamma_categorical']].to_csv('../data/artificial_trainset_10_000.csv',index=False)"
   ]
  }
 ],
 "metadata": {
  "kernelspec": {
   "display_name": "Python 3 (ipykernel)",
   "language": "python",
   "name": "python3"
  },
  "language_info": {
   "codemirror_mode": {
    "name": "ipython",
    "version": 3
   },
   "file_extension": ".py",
   "mimetype": "text/x-python",
   "name": "python",
   "nbconvert_exporter": "python",
   "pygments_lexer": "ipython3",
   "version": "3.9.2"
  }
 },
 "nbformat": 4,
 "nbformat_minor": 5
}
