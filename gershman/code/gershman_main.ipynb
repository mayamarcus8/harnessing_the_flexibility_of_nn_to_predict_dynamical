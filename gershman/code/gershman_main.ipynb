{
 "cells": [
  {
   "cell_type": "code",
   "execution_count": null,
   "id": "b6d7aa25",
   "metadata": {},
   "outputs": [],
   "source": [
    "import numpy as np\n",
    "import pandas as pd \n",
    "import matplotlib.pyplot as plt \n",
    "import seaborn as sns \n",
    "from scipy.stats import pearsonr\n",
    "from tqdm import tqdm\n",
    "\n",
    "from gershman_sim import *\n",
    "from gershman_fit import *\n",
    "from gershman_pred import *\n",
    "import pickle\n",
    "\n",
    "import warnings\n",
    "import multiprocessing as mp\n",
    "import time\n",
    "warnings.filterwarnings('ignore')"
   ]
  },
  {
   "cell_type": "code",
   "execution_count": null,
   "id": "c9009c5a",
   "metadata": {},
   "outputs": [],
   "source": [
    "df = pd.read_csv('../data/data2.csv')\n",
    "df['action'] = df['choice']-1\n",
    "df['block'] = df['block']-1\n",
    "df['subject'] = df['subject']-1\n",
    "\n",
    "all_data=[]\n",
    "\n",
    "for i in range(44):\n",
    "    cur_df = df[(df['subject']==i)].reset_index()\n",
    "    all_data.append(cur_df)\n",
    "    \n",
    "# fit parameters of all subj \n",
    "fit_arr = []\n",
    "for i in range(44):    \n",
    "    pool = mp.Pool(processes=mp.cpu_count())\n",
    "    temp_fit_arr = pool.map(gershman_fit,[all_data[i],all_data[i],all_data[i],all_data[i],all_data[i]])\n",
    "    pool.close()\n",
    "    x = np.array([temp_fit_arr[j].fun for j in range(5)])\n",
    "    fit_arr.append(temp_fit_arr[np.argmin(x)])"
   ]
  },
  {
   "cell_type": "code",
   "execution_count": null,
   "id": "4e0c0656",
   "metadata": {},
   "outputs": [],
   "source": [
    "def bce_loss(y_hat,y_true):\n",
    "    eps = 1e-10\n",
    "    return (-((y_true*(np.log(y_hat + eps)) + (1-y_true)*(np.log(1-y_hat + eps)))))\n",
    "\n",
    "bce_arr = []\n",
    "p_r2_arr = []\n",
    "all_p_0 = []\n",
    "norm_ll_arr = []\n",
    "\n",
    "for i in range(44):\n",
    "    cur_df = df[(df['subject']==i)].reset_index()\n",
    "    acc,p_0 = gershman_pred(cur_df,fit_arr[i].x)\n",
    "    all_p_0.append(p_0)\n",
    "    loss = bce_loss(1-p_0, cur_df.action.values)\n",
    "    bce_arr.append(loss.mean())\n",
    "    p_r2_arr.append( 1- (np.array(loss.sum()) / (-len(cur_df)*np.log(0.5))))\n",
    "    norm_ll_arr.append(np.exp(-loss.mean()))\n",
    "    \n",
    "\n",
    "ind_beta = np.array([fit_arr[i].x[0] for i in range(44)])\n",
    "ind_gamma = np.array([fit_arr[i].x[1] for i in range(44)])\n",
    "ind_nll = np.array([fit_arr[i].fun for i in range(44)])\n",
    "subj = np.arange(44)\n",
    "\n",
    "# save files\n",
    "pd.DataFrame({'subject':subj,\n",
    "              'beta':ind_beta,\n",
    "              'gamma':ind_gamma,\n",
    "              'nll':ind_nll,\n",
    "              'bce':bce_arr,\n",
    "              'psr2':p_r2_arr,\n",
    "              'norm_ll':norm_ll_arr}).to_csv('../results/gershman_individual_theoretical.csv',index=False)\n",
    "\n",
    "with open('../results/gershman_individual_p_0_theoretical.pickle', 'wb') as handle:\n",
    "    pickle.dump(all_p_0, handle, protocol=pickle.HIGHEST_PROTOCOL)\n"
   ]
  }
 ],
 "metadata": {
  "kernelspec": {
   "display_name": "Python 3 (ipykernel)",
   "language": "python",
   "name": "python3"
  },
  "language_info": {
   "codemirror_mode": {
    "name": "ipython",
    "version": 3
   },
   "file_extension": ".py",
   "mimetype": "text/x-python",
   "name": "python",
   "nbconvert_exporter": "python",
   "pygments_lexer": "ipython3",
   "version": "3.9.2"
  }
 },
 "nbformat": 4,
 "nbformat_minor": 5
}
